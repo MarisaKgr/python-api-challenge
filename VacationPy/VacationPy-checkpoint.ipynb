{
 "cells": [
  {
   "cell_type": "markdown",
   "metadata": {},
   "source": [
    "# VacationPy\n",
    "----\n",
    "\n",
    "#### Note\n",
    "* Keep an eye on your API usage. Use https://developers.google.com/maps/reporting/gmp-reporting as reference for how to monitor your usage and billing.\n",
    "\n",
    "* Instructions have been included for each segment. You do not have to follow them exactly, but they are included to help you think through the steps."
   ]
  },
  {
   "cell_type": "code",
   "execution_count": 9,
   "metadata": {},
   "outputs": [],
   "source": [
    "# Dependencies and Setup\n",
    "import matplotlib.pyplot as plt\n",
    "import pandas as pd\n",
    "import numpy as np\n",
    "import requests\n",
    "import gmaps\n",
    "import os\n",
    "\n",
    "# Import API key\n",
    "from api_keys import g_key"
   ]
  },
  {
   "cell_type": "markdown",
   "metadata": {},
   "source": [
    "### Store Part I results into DataFrame\n",
    "* Load the csv exported in Part I to a DataFrame"
   ]
  },
  {
   "cell_type": "code",
   "execution_count": 10,
   "metadata": {},
   "outputs": [
    {
     "data": {
      "text/html": [
       "<div>\n",
       "<style scoped>\n",
       "    .dataframe tbody tr th:only-of-type {\n",
       "        vertical-align: middle;\n",
       "    }\n",
       "\n",
       "    .dataframe tbody tr th {\n",
       "        vertical-align: top;\n",
       "    }\n",
       "\n",
       "    .dataframe thead th {\n",
       "        text-align: right;\n",
       "    }\n",
       "</style>\n",
       "<table border=\"1\" class=\"dataframe\">\n",
       "  <thead>\n",
       "    <tr style=\"text-align: right;\">\n",
       "      <th></th>\n",
       "      <th>Unnamed: 0</th>\n",
       "      <th>City</th>\n",
       "      <th>Lat</th>\n",
       "      <th>Lng</th>\n",
       "      <th>Max Temp</th>\n",
       "      <th>Humidity</th>\n",
       "      <th>Cloudiness</th>\n",
       "      <th>Wind Speed</th>\n",
       "      <th>Country</th>\n",
       "      <th>Date</th>\n",
       "    </tr>\n",
       "  </thead>\n",
       "  <tbody>\n",
       "    <tr>\n",
       "      <th>0</th>\n",
       "      <td>0</td>\n",
       "      <td>Gornopravdinsk</td>\n",
       "      <td>60.0500</td>\n",
       "      <td>69.9000</td>\n",
       "      <td>45.00</td>\n",
       "      <td>78</td>\n",
       "      <td>100</td>\n",
       "      <td>6.38</td>\n",
       "      <td>RU</td>\n",
       "      <td>1630106712</td>\n",
       "    </tr>\n",
       "    <tr>\n",
       "      <th>1</th>\n",
       "      <td>1</td>\n",
       "      <td>Ilo</td>\n",
       "      <td>-17.6394</td>\n",
       "      <td>-71.3375</td>\n",
       "      <td>59.25</td>\n",
       "      <td>81</td>\n",
       "      <td>58</td>\n",
       "      <td>6.17</td>\n",
       "      <td>PE</td>\n",
       "      <td>1630106713</td>\n",
       "    </tr>\n",
       "    <tr>\n",
       "      <th>2</th>\n",
       "      <td>2</td>\n",
       "      <td>Nikolskoye</td>\n",
       "      <td>59.7035</td>\n",
       "      <td>30.7861</td>\n",
       "      <td>60.69</td>\n",
       "      <td>84</td>\n",
       "      <td>97</td>\n",
       "      <td>6.80</td>\n",
       "      <td>RU</td>\n",
       "      <td>1630106713</td>\n",
       "    </tr>\n",
       "    <tr>\n",
       "      <th>3</th>\n",
       "      <td>3</td>\n",
       "      <td>Barrow</td>\n",
       "      <td>71.2906</td>\n",
       "      <td>-156.7887</td>\n",
       "      <td>41.02</td>\n",
       "      <td>70</td>\n",
       "      <td>90</td>\n",
       "      <td>26.46</td>\n",
       "      <td>US</td>\n",
       "      <td>1630106713</td>\n",
       "    </tr>\n",
       "    <tr>\n",
       "      <th>4</th>\n",
       "      <td>4</td>\n",
       "      <td>Bekhtery</td>\n",
       "      <td>46.2510</td>\n",
       "      <td>32.2927</td>\n",
       "      <td>68.99</td>\n",
       "      <td>70</td>\n",
       "      <td>0</td>\n",
       "      <td>2.80</td>\n",
       "      <td>UA</td>\n",
       "      <td>1630106713</td>\n",
       "    </tr>\n",
       "  </tbody>\n",
       "</table>\n",
       "</div>"
      ],
      "text/plain": [
       "   Unnamed: 0            City      Lat       Lng  Max Temp  Humidity  \\\n",
       "0           0  Gornopravdinsk  60.0500   69.9000     45.00        78   \n",
       "1           1             Ilo -17.6394  -71.3375     59.25        81   \n",
       "2           2      Nikolskoye  59.7035   30.7861     60.69        84   \n",
       "3           3          Barrow  71.2906 -156.7887     41.02        70   \n",
       "4           4        Bekhtery  46.2510   32.2927     68.99        70   \n",
       "\n",
       "   Cloudiness  Wind Speed Country        Date  \n",
       "0         100        6.38      RU  1630106712  \n",
       "1          58        6.17      PE  1630106713  \n",
       "2          97        6.80      RU  1630106713  \n",
       "3          90       26.46      US  1630106713  \n",
       "4           0        2.80      UA  1630106713  "
      ]
     },
     "execution_count": 10,
     "metadata": {},
     "output_type": "execute_result"
    }
   ],
   "source": [
    "city_weather=pd.read_csv('../python-api-challenge/dir/weather_df.csv')\n",
    "city_weather.head()"
   ]
  },
  {
   "cell_type": "markdown",
   "metadata": {},
   "source": [
    "### Humidity Heatmap\n",
    "* Configure gmaps.\n",
    "* Use the Lat and Lng as locations and Humidity as the weight.\n",
    "* Add Heatmap layer to map."
   ]
  },
  {
   "cell_type": "code",
   "execution_count": 13,
   "metadata": {},
   "outputs": [],
   "source": [
    "gmaps.configure(g_key)"
   ]
  },
  {
   "cell_type": "code",
   "execution_count": 14,
   "metadata": {},
   "outputs": [
    {
     "data": {
      "application/vnd.jupyter.widget-view+json": {
       "model_id": "6bb110ec7f7b48d1b56a2a8cbba89712",
       "version_major": 2,
       "version_minor": 0
      },
      "text/plain": [
       "Figure(layout=FigureLayout(height='420px'))"
      ]
     },
     "metadata": {},
     "output_type": "display_data"
    }
   ],
   "source": [
    "#locations = latitiude and longitude, weights = humidity\n",
    "locations = city_weather[[\"Lat\",\"Lng\"]].astype(float)\n",
    "humidity = city_weather[\"Humidity\"].astype(float)\n",
    "\n",
    "fig = gmaps.figure()\n",
    "\n",
    "heat_layer = gmaps.heatmap_layer(locations,weights=humidity,dissipating=False,max_intensity=100,point_radius=1)\n",
    "\n",
    "fig"
   ]
  },
  {
   "cell_type": "markdown",
   "metadata": {},
   "source": [
    "### Create new DataFrame fitting weather criteria\n",
    "* Narrow down the cities to fit weather conditions.\n",
    "* Drop any rows will null values."
   ]
  },
  {
   "cell_type": "code",
   "execution_count": 15,
   "metadata": {},
   "outputs": [
    {
     "data": {
      "text/html": [
       "<div>\n",
       "<style scoped>\n",
       "    .dataframe tbody tr th:only-of-type {\n",
       "        vertical-align: middle;\n",
       "    }\n",
       "\n",
       "    .dataframe tbody tr th {\n",
       "        vertical-align: top;\n",
       "    }\n",
       "\n",
       "    .dataframe thead th {\n",
       "        text-align: right;\n",
       "    }\n",
       "</style>\n",
       "<table border=\"1\" class=\"dataframe\">\n",
       "  <thead>\n",
       "    <tr style=\"text-align: right;\">\n",
       "      <th></th>\n",
       "      <th>Unnamed: 0</th>\n",
       "      <th>City</th>\n",
       "      <th>Lat</th>\n",
       "      <th>Lng</th>\n",
       "      <th>Max Temp</th>\n",
       "      <th>Humidity</th>\n",
       "      <th>Cloudiness</th>\n",
       "      <th>Wind Speed</th>\n",
       "      <th>Country</th>\n",
       "      <th>Date</th>\n",
       "    </tr>\n",
       "  </thead>\n",
       "  <tbody>\n",
       "    <tr>\n",
       "      <th>40</th>\n",
       "      <td>40</td>\n",
       "      <td>Erzin</td>\n",
       "      <td>36.9559</td>\n",
       "      <td>36.2000</td>\n",
       "      <td>79.00</td>\n",
       "      <td>67</td>\n",
       "      <td>0</td>\n",
       "      <td>1.16</td>\n",
       "      <td>TR</td>\n",
       "      <td>1630106723</td>\n",
       "    </tr>\n",
       "    <tr>\n",
       "      <th>50</th>\n",
       "      <td>50</td>\n",
       "      <td>Requena</td>\n",
       "      <td>39.4883</td>\n",
       "      <td>-1.1004</td>\n",
       "      <td>72.14</td>\n",
       "      <td>31</td>\n",
       "      <td>0</td>\n",
       "      <td>6.31</td>\n",
       "      <td>ES</td>\n",
       "      <td>1630106725</td>\n",
       "    </tr>\n",
       "    <tr>\n",
       "      <th>135</th>\n",
       "      <td>135</td>\n",
       "      <td>Byron Bay</td>\n",
       "      <td>-28.6500</td>\n",
       "      <td>153.6167</td>\n",
       "      <td>70.05</td>\n",
       "      <td>38</td>\n",
       "      <td>0</td>\n",
       "      <td>8.52</td>\n",
       "      <td>AU</td>\n",
       "      <td>1630106467</td>\n",
       "    </tr>\n",
       "    <tr>\n",
       "      <th>177</th>\n",
       "      <td>177</td>\n",
       "      <td>Nador</td>\n",
       "      <td>35.1740</td>\n",
       "      <td>-2.9287</td>\n",
       "      <td>77.25</td>\n",
       "      <td>73</td>\n",
       "      <td>0</td>\n",
       "      <td>8.05</td>\n",
       "      <td>MA</td>\n",
       "      <td>1630106759</td>\n",
       "    </tr>\n",
       "    <tr>\n",
       "      <th>204</th>\n",
       "      <td>204</td>\n",
       "      <td>Ardakān</td>\n",
       "      <td>32.3100</td>\n",
       "      <td>54.0175</td>\n",
       "      <td>79.18</td>\n",
       "      <td>19</td>\n",
       "      <td>0</td>\n",
       "      <td>6.62</td>\n",
       "      <td>IR</td>\n",
       "      <td>1630106766</td>\n",
       "    </tr>\n",
       "  </tbody>\n",
       "</table>\n",
       "</div>"
      ],
      "text/plain": [
       "     Unnamed: 0       City      Lat       Lng  Max Temp  Humidity  Cloudiness  \\\n",
       "40           40      Erzin  36.9559   36.2000     79.00        67           0   \n",
       "50           50    Requena  39.4883   -1.1004     72.14        31           0   \n",
       "135         135  Byron Bay -28.6500  153.6167     70.05        38           0   \n",
       "177         177      Nador  35.1740   -2.9287     77.25        73           0   \n",
       "204         204    Ardakān  32.3100   54.0175     79.18        19           0   \n",
       "\n",
       "     Wind Speed Country        Date  \n",
       "40         1.16      TR  1630106723  \n",
       "50         6.31      ES  1630106725  \n",
       "135        8.52      AU  1630106467  \n",
       "177        8.05      MA  1630106759  \n",
       "204        6.62      IR  1630106766  "
      ]
     },
     "execution_count": 15,
     "metadata": {},
     "output_type": "execute_result"
    }
   ],
   "source": [
    "#narrow down max temp 70-80, wind speed <10, cloudiness 0, drop na null value rows\n",
    "ideal_weather=city_weather.loc[(city_weather[\"Max Temp\"]>70)&(city_weather[\"Max Temp\"]<80)&(city_weather[\"Wind Speed\"]<10)&(city_weather[\"Cloudiness\"]<1)].dropna()\n",
    "\n",
    "ideal_weather.head()"
   ]
  },
  {
   "cell_type": "markdown",
   "metadata": {},
   "source": [
    "### Hotel Map\n",
    "* Store into variable named `hotel_df`.\n",
    "* Add a \"Hotel Name\" column to the DataFrame.\n",
    "* Set parameters to search for hotels with 5000 meters.\n",
    "* Hit the Google Places API for each city's coordinates.\n",
    "* Store the first Hotel result into the DataFrame.\n",
    "* Plot markers on top of the heatmap."
   ]
  },
  {
   "cell_type": "code",
   "execution_count": 16,
   "metadata": {},
   "outputs": [
    {
     "data": {
      "text/html": [
       "<div>\n",
       "<style scoped>\n",
       "    .dataframe tbody tr th:only-of-type {\n",
       "        vertical-align: middle;\n",
       "    }\n",
       "\n",
       "    .dataframe tbody tr th {\n",
       "        vertical-align: top;\n",
       "    }\n",
       "\n",
       "    .dataframe thead th {\n",
       "        text-align: right;\n",
       "    }\n",
       "</style>\n",
       "<table border=\"1\" class=\"dataframe\">\n",
       "  <thead>\n",
       "    <tr style=\"text-align: right;\">\n",
       "      <th></th>\n",
       "      <th>Lat</th>\n",
       "      <th>Lng</th>\n",
       "      <th>City</th>\n",
       "      <th>Country</th>\n",
       "      <th>Hotel Name</th>\n",
       "    </tr>\n",
       "  </thead>\n",
       "  <tbody>\n",
       "    <tr>\n",
       "      <th>40</th>\n",
       "      <td>36.9559</td>\n",
       "      <td>36.2000</td>\n",
       "      <td>Erzin</td>\n",
       "      <td>TR</td>\n",
       "      <td></td>\n",
       "    </tr>\n",
       "    <tr>\n",
       "      <th>50</th>\n",
       "      <td>39.4883</td>\n",
       "      <td>-1.1004</td>\n",
       "      <td>Requena</td>\n",
       "      <td>ES</td>\n",
       "      <td></td>\n",
       "    </tr>\n",
       "    <tr>\n",
       "      <th>135</th>\n",
       "      <td>-28.6500</td>\n",
       "      <td>153.6167</td>\n",
       "      <td>Byron Bay</td>\n",
       "      <td>AU</td>\n",
       "      <td></td>\n",
       "    </tr>\n",
       "    <tr>\n",
       "      <th>177</th>\n",
       "      <td>35.1740</td>\n",
       "      <td>-2.9287</td>\n",
       "      <td>Nador</td>\n",
       "      <td>MA</td>\n",
       "      <td></td>\n",
       "    </tr>\n",
       "    <tr>\n",
       "      <th>204</th>\n",
       "      <td>32.3100</td>\n",
       "      <td>54.0175</td>\n",
       "      <td>Ardakān</td>\n",
       "      <td>IR</td>\n",
       "      <td></td>\n",
       "    </tr>\n",
       "  </tbody>\n",
       "</table>\n",
       "</div>"
      ],
      "text/plain": [
       "         Lat       Lng       City Country Hotel Name\n",
       "40   36.9559   36.2000      Erzin      TR           \n",
       "50   39.4883   -1.1004    Requena      ES           \n",
       "135 -28.6500  153.6167  Byron Bay      AU           \n",
       "177  35.1740   -2.9287      Nador      MA           \n",
       "204  32.3100   54.0175    Ardakān      IR           "
      ]
     },
     "execution_count": 16,
     "metadata": {},
     "output_type": "execute_result"
    }
   ],
   "source": [
    "#make new hotel dataframe using scrubbed data from ideal weather df\n",
    "hotel_df=pd.DataFrame(ideal_weather, columns=[\"Lat\",\"Lng\",\"City\",\"Country\"])\n",
    "hotel_df[\"Hotel Name\"]=\"\"\n",
    "hotel_df.head()"
   ]
  },
  {
   "cell_type": "code",
   "execution_count": 25,
   "metadata": {},
   "outputs": [
    {
     "name": "stdout",
     "output_type": "stream",
     "text": [
      "Hotel: Hattusa Vacation Thermal Club Erzin is in Erzin.\n",
      "Hotel: Hotel Patilla Ciudad de Requena is in Requena.\n",
      "Hotel: Atlantic Byron Bay is in Byron Bay.\n",
      "Hotel: Hôtel Mercure Rif Nador is in Nador.\n",
      "Hotel: Kheshtomah Ecolodge is in Ardakān.\n",
      "Hotel: Faguo Hotel is in Pulandian.\n",
      "Hotel: Elysium Hotel is in Paphos.\n",
      "Hotel: Princesse Tsiribihina is in Miandrivazo.\n",
      "Hotel: پایگاه طبیعت گردی is in Taft.\n",
      "Hotel: Cosmos is in Zhezkazgan.\n",
      "Hotel: Hotel Бейнеу is in Beyneu.\n",
      "Hotel: Grand Hotel Berti is in Bingöl.\n"
     ]
    }
   ],
   "source": [
    "params = {\"key\":g_key, \"type\":\"hotel\",\"keyword\":\"hotels\",\"radius\":5000}\n",
    "\n",
    "for index, row in hotel_df.iterrows():\n",
    "    #url for places\n",
    "    base_url=\"https://maps.googleapis.com/maps/api/place/nearbysearch/json\"\n",
    "    \n",
    "    lat=row[\"Lat\"]\n",
    "    lng=row[\"Lng\"]\n",
    "    place = row[\"City\"]\n",
    "    \n",
    "    #add coordinates\n",
    "    params[\"location\"]=f\"{lat},{lng}\"\n",
    "    \n",
    "    #make API request\n",
    "    city_response=requests.get(base_url,params=params).json()\n",
    "    \n",
    "    results=city_response['results']\n",
    "    \n",
    "    #try except for missing data\n",
    "    try:\n",
    "        print(f\"Hotel: {results[0]['name']} is in {place}.\")\n",
    "                \n",
    "        hotel_df.loc[index,\"Hotel Name\"]=results[0]['name']\n",
    "    except(KeyError):\n",
    "        print(\"No hotel found.\")\n",
    "        pass\n",
    "        continue\n",
    "    "
   ]
  },
  {
   "cell_type": "code",
   "execution_count": 26,
   "metadata": {},
   "outputs": [],
   "source": [
    "# NOTE: Do not change any of the code in this cell\n",
    "\n",
    "# Using the template add the hotel marks to the heatmap\n",
    "info_box_template = \"\"\"\n",
    "<dl>\n",
    "<dt>Name</dt><dd>{Hotel Name}</dd>\n",
    "<dt>City</dt><dd>{City}</dd>\n",
    "<dt>Country</dt><dd>{Country}</dd>\n",
    "</dl>\n",
    "\"\"\"\n",
    "# Store the DataFrame Row\n",
    "# NOTE: be sure to update with your DataFrame name\n",
    "hotel_info = [info_box_template.format(**row) for index, row in hotel_df.iterrows()]\n",
    "locations = hotel_df[[\"Lat\", \"Lng\"]]"
   ]
  },
  {
   "cell_type": "code",
   "execution_count": 28,
   "metadata": {},
   "outputs": [
    {
     "data": {
      "application/vnd.jupyter.widget-view+json": {
       "model_id": "6bb110ec7f7b48d1b56a2a8cbba89712",
       "version_major": 2,
       "version_minor": 0
      },
      "text/plain": [
       "Figure(layout=FigureLayout(height='420px'))"
      ]
     },
     "metadata": {},
     "output_type": "display_data"
    }
   ],
   "source": [
    "# Add marker layer ontop of heat map\n",
    "marker_layer =gmaps.marker_layer(locations,info_box_content=hotel_info)\n",
    "fig.add_layer(marker_layer)\n",
    "\n",
    "# Display figure\n",
    "fig"
   ]
  },
  {
   "cell_type": "code",
   "execution_count": null,
   "metadata": {},
   "outputs": [],
   "source": []
  }
 ],
 "metadata": {
  "kernelspec": {
   "display_name": "Python [conda env:root] *",
   "language": "python",
   "name": "conda-root-py"
  },
  "language_info": {
   "codemirror_mode": {
    "name": "ipython",
    "version": 3
   },
   "file_extension": ".py",
   "mimetype": "text/x-python",
   "name": "python",
   "nbconvert_exporter": "python",
   "pygments_lexer": "ipython3",
   "version": "3.8.8"
  },
  "latex_envs": {
   "LaTeX_envs_menu_present": true,
   "autoclose": false,
   "autocomplete": true,
   "bibliofile": "biblio.bib",
   "cite_by": "apalike",
   "current_citInitial": 1,
   "eqLabelWithNumbers": true,
   "eqNumInitial": 1,
   "hotkeys": {
    "equation": "Ctrl-E",
    "itemize": "Ctrl-I"
   },
   "labels_anchors": false,
   "latex_user_defs": false,
   "report_style_numbering": false,
   "user_envs_cfg": false
  }
 },
 "nbformat": 4,
 "nbformat_minor": 4
}
